{
 "cells": [
  {
   "cell_type": "code",
   "execution_count": 1,
   "id": "b4c64ee2",
   "metadata": {},
   "outputs": [
    {
     "name": "stdout",
     "output_type": "stream",
     "text": [
      "Defaulting to user installation because normal site-packages is not writeable\n",
      "Collecting Boruta\n",
      "  Downloading Boruta-0.4.3-py3-none-any.whl.metadata (8.8 kB)\n",
      "Requirement already satisfied: numpy>=1.10.4 in c:\\program files\\python311\\lib\\site-packages (from Boruta) (2.1.1)\n",
      "Requirement already satisfied: scikit-learn>=0.17.1 in c:\\program files\\python311\\lib\\site-packages (from Boruta) (1.6.0)\n",
      "Requirement already satisfied: scipy>=0.17.0 in c:\\program files\\python311\\lib\\site-packages (from Boruta) (1.14.1)\n",
      "Requirement already satisfied: joblib>=1.2.0 in c:\\program files\\python311\\lib\\site-packages (from scikit-learn>=0.17.1->Boruta) (1.4.2)\n",
      "Requirement already satisfied: threadpoolctl>=3.1.0 in c:\\program files\\python311\\lib\\site-packages (from scikit-learn>=0.17.1->Boruta) (3.5.0)\n",
      "Downloading Boruta-0.4.3-py3-none-any.whl (57 kB)\n",
      "Installing collected packages: Boruta\n",
      "Successfully installed Boruta-0.4.3\n"
     ]
    },
    {
     "name": "stderr",
     "output_type": "stream",
     "text": [
      "\n",
      "[notice] A new release of pip is available: 25.0.1 -> 25.2\n",
      "[notice] To update, run: python.exe -m pip install --upgrade pip\n"
     ]
    }
   ],
   "source": [
    "!pip install Boruta"
   ]
  },
  {
   "cell_type": "code",
   "execution_count": null,
   "id": "fde51e34",
   "metadata": {},
   "outputs": [],
   "source": [
    "\n",
    "from boruta import BorutaPy\n",
    "from sklearn.ensemble import RandomForestRegressor\n",
    "\n",
    "# instantiate random forest\n",
    "forest = RandomForestRegressor(n_jobs = -1, max_depth = 5)\n",
    "\n",
    "# fit boruta\n",
    "boruta_selector = BorutaPy(forest, n_estimators = 'auto', random_state = 0)\n",
    "boruta_selector.fit(np.array(X_trn), np.array(y_trn))\n",
    "\n",
    "# store results\n",
    "boruta_ranking = boruta_selector.ranking_\n",
    "selected_features = np.array(feature_names)[boruta_ranking <= 2]\n"
   ]
  }
 ],
 "metadata": {
  "kernelspec": {
   "display_name": "Python 3",
   "language": "python",
   "name": "python3"
  },
  "language_info": {
   "codemirror_mode": {
    "name": "ipython",
    "version": 3
   },
   "file_extension": ".py",
   "mimetype": "text/x-python",
   "name": "python",
   "nbconvert_exporter": "python",
   "pygments_lexer": "ipython3",
   "version": "3.11.5"
  }
 },
 "nbformat": 4,
 "nbformat_minor": 5
}
